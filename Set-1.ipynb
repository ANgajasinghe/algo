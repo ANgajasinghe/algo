{
 "cells": [
  {
   "cell_type": "code",
   "execution_count": null,
   "metadata": {
    "dotnet_interactive": {
     "language": "csharp"
    }
   },
   "outputs": [
    {
     "name": "stdout",
     "output_type": "stream",
     "text": [
      "No overlap\r\n"
     ]
    }
   ],
   "source": [
    "// How to find if two given rectangles overlap? \n",
    "\n",
    "public void testOverlap(Rectangle r1, Rectangle r2) {\n",
    "\n",
    "    if(r1.width == r2.width && r1.height == r2.height) {\n",
    "        Console.WriteLine(\"Same size\");\n",
    "    }\n",
    "    else if(r1.width == r2.width) {\n",
    "        Console.WriteLine(\"Same width\");\n",
    "    }\n",
    "    else if(r1.height == r2.height) {\n",
    "        Console.WriteLine(\"Same height\");\n",
    "    }\n",
    "    else {\n",
    "        Console.WriteLine(\"No overlap\");\n",
    "    }\n",
    "\n",
    "}\n",
    "\n",
    "public record Rectangle(int width, int height);\n",
    "\n",
    "\n",
    "\n",
    "testOverlap(new Rectangle(10, 10), new Rectangle(12, 14));\n"
   ]
  },
  {
   "cell_type": "code",
   "execution_count": null,
   "metadata": {
    "dotnet_interactive": {
     "language": "csharp"
    }
   },
   "outputs": [],
   "source": [
    "// How to find angle between hour and minute hands at a given time? "
   ]
  }
 ],
 "metadata": {
  "kernelspec": {
   "display_name": ".NET (C#)",
   "language": "C#",
   "name": ".net-csharp"
  },
  "language_info": {
   "file_extension": ".cs",
   "mimetype": "text/x-csharp",
   "name": "C#",
   "pygments_lexer": "csharp",
   "version": "9.0"
  },
  "orig_nbformat": 4
 },
 "nbformat": 4,
 "nbformat_minor": 2
}
