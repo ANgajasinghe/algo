{
 "cells": [
  {
   "cell_type": "code",
   "execution_count": null,
   "metadata": {
    "dotnet_interactive": {
     "language": "csharp"
    }
   },
   "outputs": [],
   "source": [
    "// Program for Fibonacci numbers\n",
    "// The Fibonacci numbers are the numbers in the following integer sequence.\n",
    "// 0, 1, 1, 2, 3, 5, 8, 13, 21, 34, 55, 89, 144, ……..\n",
    "// The first two numbers are 0 and 1. Every number after that is the sum of the two preceding ones.\n",
    "// F0 = 0 and F1 = 1. - THESE ARE THE FIRST TWO NUMBERS IN THE SEQUENCE.\n",
    "// Fn = Fn-1 + Fn-2"
   ]
  },
  {
   "cell_type": "code",
   "execution_count": null,
   "metadata": {
    "dotnet_interactive": {
     "language": "csharp"
    }
   },
   "outputs": [
    {
     "name": "stdout",
     "output_type": "stream",
     "text": [
      "5\r\n"
     ]
    }
   ],
   "source": [
    "// Given a number n, print n-th Fibonacci Number. \n",
    "/*\n",
    "    Input  : n = 2\n",
    "    Output : 1\n",
    "\n",
    "    Input  : n = 9\n",
    "    Output : 34\n",
    "*/\n",
    "\n",
    "public int FindFibonacci(int possion) \n",
    "{\n",
    "    if(possion == 0)\n",
    "    {\n",
    "        return 0;\n",
    "    }\n",
    "    else if(possion == 1)\n",
    "    {\n",
    "        return 1;\n",
    "    }\n",
    "    else\n",
    "    {\n",
    "        return FindFibonacci(possion - 1) + FindFibonacci(possion - 2);\n",
    "    }\n",
    "}\n",
    "\n",
    "\n",
    "Console.WriteLine(FindFibonacci(5));\n",
    "\n",
    "\n"
   ]
  }
 ],
 "metadata": {
  "kernelspec": {
   "display_name": ".NET (C#)",
   "language": "C#",
   "name": ".net-csharp"
  },
  "language_info": {
   "name": "C#"
  }
 },
 "nbformat": 4,
 "nbformat_minor": 2
}
